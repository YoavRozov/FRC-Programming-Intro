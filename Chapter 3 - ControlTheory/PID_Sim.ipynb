{
 "cells": [
  {
   "cell_type": "code",
   "execution_count": 78,
   "metadata": {
    "cellView": "form",
    "executionInfo": {
     "elapsed": 396,
     "status": "ok",
     "timestamp": 1735645316522,
     "user": {
      "displayName": "Yoav Rozov",
      "userId": "14434221743989123953"
     },
     "user_tz": -120
    },
    "id": "DHYj9aOmbDbt"
   },
   "outputs": [],
   "source": [
    "#@markdown #Imports\n",
    "import numpy as np\n",
    "import matplotlib.pyplot as plt\n",
    "from ipywidgets import interact, FloatSlider"
   ]
  },
  {
   "cell_type": "code",
   "execution_count": 79,
   "metadata": {
    "executionInfo": {
     "elapsed": 237,
     "status": "ok",
     "timestamp": 1735646212089,
     "user": {
      "displayName": "Yoav Rozov",
      "userId": "14434221743989123953"
     },
     "user_tz": -120
    },
    "id": "3wOoqmJraxEL"
   },
   "outputs": [],
   "source": [
    "#@markdown ##Motor class\n",
    "class DCMotor:\n",
    "    def __init__(self, free_speed_rps, resistance_ohm, kT_Nm_A):\n",
    "        self.free_speed_rps = free_speed_rps\n",
    "        self.resistance_ohm = resistance_ohm\n",
    "        self.kT_Nm_A = kT_Nm_A  # Torque constant\n",
    "        self.kV_rpm_V = free_speed_rps / (12) # Speed constant (assuming 12V nominal voltage)\n",
    "        self.inertia = 0.001 # Placeholder, needs to be calculated or measured.\n",
    "\n",
    "    def simulate_step(self, voltage, current_limit, current_speed_rps, current_position_rot, TIME_STEP):\n",
    "        # Calculate back EMF\n",
    "        back_emf = current_speed_rps * 2 * np.pi / 60 / self.kV_rpm_V * 12\n",
    "\n",
    "        # Calculate current (considering current limit)\n",
    "        current = (voltage - back_emf) / self.resistance_ohm\n",
    "        current = np.clip(current, -current_limit, current_limit)\n",
    "\n",
    "        # Calculate torque\n",
    "        torque = self.kT_Nm_A * current\n",
    "\n",
    "        # Calculate angular acceleration\n",
    "        angular_acceleration = torque / self.inertia\n",
    "\n",
    "        # Update speed and position (using simple integration)\n",
    "        new_speed_rps = current_speed_rps + angular_acceleration * TIME_STEP\n",
    "        new_position_rot = current_position_rot + new_speed_rps * TIME_STEP\n",
    "\n",
    "        return new_position_rot, new_speed_rps"
   ]
  },
  {
   "cell_type": "code",
   "execution_count": 80,
   "metadata": {
    "cellView": "form",
    "colab": {
     "base_uri": "https://localhost:8080/",
     "height": 139,
     "referenced_widgets": [
      "d78927afa3104525852982cfab329430",
      "db0aef1fe6a3444bbc49a9a41bc153f1",
      "6245c51c6ed740d5b0d78a6ef6bdc9a8",
      "32f9008c10b7433e94434b9b143118b7",
      "5c5c8a0bb6104cbdb5d2c71fa3bc3f82",
      "6c9005460ebc4beda885856d42470764",
      "47dfc8bfd6c4492fa7e224cab58cce55",
      "0fe4297dc7494457bf6d1d2f12caf708",
      "b02322cffa9b4bf9bd5f7dcf54a29e2c",
      "26cf9eaacea74ce7b433fe3c802ca735",
      "63abfc9251df4a13b74dd58eda4a3197",
      "5b55b94de57145d2930756d9b6b9dbc9"
     ]
    },
    "executionInfo": {
     "elapsed": 359,
     "status": "ok",
     "timestamp": 1735646212812,
     "user": {
      "displayName": "Yoav Rozov",
      "userId": "14434221743989123953"
     },
     "user_tz": -120
    },
    "id": "R9p9R60QdPnx",
    "outputId": "bc8044bd-7b6e-4643-bc89-49b6f1ce0e5e"
   },
   "outputs": [
    {
     "data": {
      "application/vnd.jupyter.widget-view+json": {
       "model_id": "add48352633a4b3899f439434afcbe33",
       "version_major": 2,
       "version_minor": 0
      },
      "text/plain": [
       "Dropdown(description='Motor:', options=('Falcon 500', 'Custom'), value='Falcon 500')"
      ]
     },
     "metadata": {},
     "output_type": "display_data"
    },
    {
     "data": {
      "application/vnd.jupyter.widget-view+json": {
       "model_id": "1e54476314294314a6cbbe1d7738c9b9",
       "version_major": 2,
       "version_minor": 0
      },
      "text/plain": [
       "FloatText(value=120.0, description='Free speed (RPS):')"
      ]
     },
     "metadata": {},
     "output_type": "display_data"
    },
    {
     "data": {
      "application/vnd.jupyter.widget-view+json": {
       "model_id": "7c23d2dd3a834b9bb5052645e601061e",
       "version_major": 2,
       "version_minor": 0
      },
      "text/plain": [
       "FloatText(value=0.039, description='Resistance (Ohm):')"
      ]
     },
     "metadata": {},
     "output_type": "display_data"
    },
    {
     "data": {
      "application/vnd.jupyter.widget-view+json": {
       "model_id": "fddaeba76d8447bc993503e5816b780d",
       "version_major": 2,
       "version_minor": 0
      },
      "text/plain": [
       "FloatText(value=0.0192, description='kT (Nm A):')"
      ]
     },
     "metadata": {},
     "output_type": "display_data"
    }
   ],
   "source": [
    "#@markdown ##Create a motor\n",
    "\n",
    "# Import necessary libraries\n",
    "from IPython.display import display\n",
    "import ipywidgets as widgets\n",
    "\n",
    "# Initialize motor object with default Falcon 500 parameters\n",
    "motor = DCMotor(free_speed_rps=120, resistance_ohm=0.039, kT_Nm_A=0.0192)\n",
    "\n",
    "# Dropdown for motor type selection\n",
    "motor_type = widgets.Dropdown(\n",
    "    options=[\"Falcon 500\", \"Custom\"],\n",
    "    value=\"Falcon 500\",\n",
    "    description=\"Motor:\"\n",
    ")\n",
    "\n",
    "# Dynamic widgets for motor parameters\n",
    "free_speed_widget = widgets.FloatText(value=120, description=\"Free speed (RPS):\")\n",
    "resistance_widget = widgets.FloatText(value=0.039, description=\"Resistance (Ohm):\")\n",
    "kT_widget = widgets.FloatText(value=0.0192, description=\"kT (Nm A):\")\n",
    "\n",
    "# Update motor object whenever a parameter changes\n",
    "def update_motor(change=None):\n",
    "    global motor\n",
    "    motor = DCMotor(\n",
    "        free_speed_rps=free_speed_widget.value,\n",
    "        resistance_ohm=resistance_widget.value,\n",
    "        kT_Nm_A=kT_widget.value\n",
    "    )\n",
    "\n",
    "# Bind changes in widgets to the motor update function\n",
    "free_speed_widget.observe(update_motor, names='value')\n",
    "resistance_widget.observe(update_motor, names='value')\n",
    "kT_widget.observe(update_motor, names='value')\n",
    "\n",
    "# Update dynamic options based on motor type\n",
    "def update_options(change):\n",
    "    if change['new'] == \"Falcon 500\":\n",
    "        free_speed_widget.value = 120\n",
    "        resistance_widget.value = 0.039\n",
    "        kT_widget.value = 0.0192\n",
    "    elif change['new'] == \"Custom\":\n",
    "        free_speed_widget.value = 0\n",
    "        resistance_widget.value = 0\n",
    "        kT_widget.value = 0\n",
    "\n",
    "# Bind the dropdown to the update options function\n",
    "motor_type.observe(update_options, names='value')\n",
    "\n",
    "# Display widgets\n",
    "display(motor_type, free_speed_widget, resistance_widget, kT_widget)\n"
   ]
  },
  {
   "cell_type": "code",
   "execution_count": 93,
   "metadata": {
    "colab": {
     "base_uri": "https://localhost:8080/",
     "height": 1000,
     "referenced_widgets": [
      "14e1612f82b74ede84818e0773556264",
      "dc34f3b99e8e4bb49cb04ccc0bc6c982",
      "5c1302bb263f4d8ea9e89943f8d58989",
      "700ad952c9f1405982a4e31fbccbf710",
      "4e65cb2a564f47cc8dbfd4ade651f071",
      "3abdcf60012e40c6900c428a32981eff",
      "f73a201330c445279e8cbeeb1f5c1474",
      "959c13c04d1f4338b7f61def93272605",
      "4a2d3dc972354e29897c1a082286ed3b",
      "8d7c56f649004d64b85005bec3e07dea",
      "2ac1561b75d747eb892f359e79d89477",
      "f47e3f246cd1419aab22c74b63ce8d8f",
      "d1d7f682b53546f4adfefa1eb1752a80",
      "a7198593675f400c8ae89d36dbdbea26",
      "3b79dffe4bdb4a038b430087f17a4c3e",
      "10eee81dbf764ad58bcb09c703742872"
     ]
    },
    "executionInfo": {
     "elapsed": 1980,
     "status": "ok",
     "timestamp": 1735647258382,
     "user": {
      "displayName": "Yoav Rozov",
      "userId": "14434221743989123953"
     },
     "user_tz": -120
    },
    "id": "zrfwSn_4hdPz",
    "outputId": "3b1e6f05-2803-4a9b-cd9e-f0df96b443bf"
   },
   "outputs": [
    {
     "data": {
      "application/vnd.jupyter.widget-view+json": {
       "model_id": "b2435203fd284daaa18c41c23abd365d",
       "version_major": 2,
       "version_minor": 0
      },
      "text/plain": [
       "interactive(children=(FloatSlider(value=3.0, description='Setpoint', max=20.0, step=1.0), FloatSlider(value=10…"
      ]
     },
     "metadata": {},
     "output_type": "display_data"
    },
    {
     "data": {
      "text/plain": [
       "<function __main__.visualize_pid(setpoint, kP, kI, kD)>"
      ]
     },
     "execution_count": 93,
     "metadata": {},
     "output_type": "execute_result"
    }
   ],
   "source": [
    "import numpy as np\n",
    "import matplotlib.pyplot as plt\n",
    "from ipywidgets import interact, FloatSlider\n",
    "\n",
    "TIME_STEP = 0.001  # 1ms time step\n",
    "MAX_VOLTAGE = 12       # Max voltage\n",
    "#@markdown ##PID prediction\n",
    "duration = 1 #@param {type:\"number\"}\n",
    "current_limit = 60\n",
    "\n",
    "# PID Controller\n",
    "def pid_controller(setpoint, kP, kI, kD, duration):\n",
    "    time = np.arange(0, duration, TIME_STEP)\n",
    "    position = 0\n",
    "    speed = 0\n",
    "    integral = 0\n",
    "    previous_error = 0\n",
    "\n",
    "    positions = []\n",
    "    speeds = []\n",
    "    voltages = []\n",
    "    errors = []\n",
    "    integrals = []\n",
    "    derivatives = []\n",
    "\n",
    "    for t in time:\n",
    "        # Calculate error\n",
    "        error = setpoint - position\n",
    "        integral += error * TIME_STEP\n",
    "        derivative = (error - previous_error) / TIME_STEP\n",
    "\n",
    "        # PID Output\n",
    "        voltage = kP * error + kI * integral + kD * derivative\n",
    "        voltage = np.clip(voltage, -MAX_VOLTAGE, MAX_VOLTAGE)  # Clamp voltage\n",
    "\n",
    "        # Apply voltage and simulate motor\n",
    "        position, speed = motor.simulate_step(voltage, current_limit, speed, position, TIME_STEP)\n",
    "\n",
    "        # Record values\n",
    "        voltages.append(voltage)\n",
    "        positions.append(position)\n",
    "        speeds.append(speed)\n",
    "        errors.append(error)\n",
    "        integrals.append(integral)\n",
    "        derivatives.append(derivative)\n",
    "        previous_error = error\n",
    "\n",
    "    return time, positions, speeds, voltages, errors, integrals, derivatives\n",
    "\n",
    "# Visualization Function\n",
    "def visualize_pid(setpoint, kP, kI, kD):\n",
    "    global duration  # Simulation time in seconds\n",
    "    time, positions, speeds, voltages, errors, integrals, derivatives = pid_controller(setpoint, kP, kI, kD, duration)\n",
    "\n",
    "    # Plot Results\n",
    "    plt.figure(figsize=(20, 15))\n",
    "\n",
    "    # Position\n",
    "    plt.subplot(3, 2, 1)\n",
    "    plt.plot(time, positions, label=\"Position (Rotations)\")\n",
    "    plt.axhline(setpoint, color=\"r\", linestyle=\"--\", label=\"Setpoint\")\n",
    "    plt.title(\"Position vs Time\")\n",
    "    plt.xlabel(\"Time (s)\")\n",
    "    plt.ylabel(\"Position (Rotations)\")\n",
    "    plt.legend()\n",
    "\n",
    "    # Speed\n",
    "    plt.subplot(3, 2, 2)\n",
    "    plt.plot(time, speeds, label=\"Speed (RPS)\", color=\"orange\")\n",
    "    plt.title(\"Speed vs Time\")\n",
    "    plt.xlabel(\"Time (s)\")\n",
    "    plt.ylabel(\"Speed (RPS)\")\n",
    "    plt.legend()\n",
    "\n",
    "    # Voltage\n",
    "    plt.subplot(3, 2, 3)\n",
    "    plt.plot(time, voltages, label=\"Voltage (V)\", color=\"green\")\n",
    "    plt.title(\"Voltage vs Time\")\n",
    "    plt.xlabel(\"Time (s)\")\n",
    "    plt.ylabel(\"Voltage (V)\")\n",
    "    plt.legend()\n",
    "\n",
    "    # Error\n",
    "    plt.subplot(3, 2, 4)\n",
    "    plt.plot(time, errors, label=\"Error\", color=\"purple\")\n",
    "    plt.title(\"Error vs Time\")\n",
    "    plt.xlabel(\"Time (s)\")\n",
    "    plt.ylabel(\"Error\")\n",
    "    plt.legend()\n",
    "\n",
    "    # Error Integral\n",
    "    plt.subplot(3, 2, 5)\n",
    "    plt.plot(time, integrals, label=\"Error Integral\", color=\"blue\")\n",
    "    plt.title(\"Error Integral vs Time\")\n",
    "    plt.xlabel(\"Time (s)\")\n",
    "    plt.ylabel(\"Error Integral\")\n",
    "    plt.legend()\n",
    "\n",
    "    # Error Derivative\n",
    "    derivatives[0] = 0  # First derivative is undefined\n",
    "\n",
    "    plt.subplot(3, 2, 6)\n",
    "    plt.plot(time, derivatives, label=\"Error Derivative\", color=\"red\")\n",
    "    plt.title(\"Error Derivative vs Time\")\n",
    "    plt.xlabel(\"Time (s)\")\n",
    "    plt.ylabel(\"Error Derivative\")\n",
    "    plt.legend()\n",
    "\n",
    "    plt.show()\n",
    "\n",
    "# Interactive Widgets\n",
    "interact(\n",
    "    visualize_pid,\n",
    "    setpoint=FloatSlider(value=3, min=0, max=20, step=1, description=\"Setpoint\"),\n",
    "    kP=FloatSlider(value=14, min=0, max=10, step=0.01, description=\"kP\"),\n",
    "    kI=FloatSlider(value=0.0, min=0, max=10, step=0.01, description=\"kI\"),\n",
    "    kD=FloatSlider(value=0.0, min=0, max=10, step=0.01, description=\"kD\")\n",
    ")"
   ]
  }
 ],
 "metadata": {
  "colab": {
   "authorship_tag": "ABX9TyMCNIEwoutE0ZnLisxv4sS7",
   "provenance": []
  },
  "kernelspec": {
   "display_name": "Python 3",
   "name": "python3"
  },
  "language_info": {
   "name": "python"
  }
 },
 "nbformat": 4,
 "nbformat_minor": 0
}
