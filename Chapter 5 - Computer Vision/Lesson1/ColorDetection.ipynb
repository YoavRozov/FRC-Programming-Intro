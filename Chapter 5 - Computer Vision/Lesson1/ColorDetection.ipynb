{
 "cells": [
  {
   "cell_type": "markdown",
   "metadata": {},
   "source": [
    "# Color Object Detection using OpenCV"
   ]
  },
  {
   "cell_type": "markdown",
   "metadata": {},
   "source": [
    "### What We'll Do\n",
    "We’ll explore how to use the OpenCV library for basic computer vision tasks\n",
    "focusing on detecting objects in images based on their color."
   ]
  },
  {
   "attachments": {
    "SetUp.png": {
     "image/png": "[encoded data removed]"
    }
   },
   "cell_type": "markdown",
   "metadata": {},
   "source": [
    "To set up the python notebook run the next cell and then click install (it might take a while)\n",
    "\n",
    "![SetUp.png](attachment:SetUp.png)"
   ]
  },
  {
   "cell_type": "code",
   "execution_count": 1,
   "metadata": {},
   "outputs": [
    {
     "name": "stdout",
     "output_type": "stream",
     "text": [
      "Hello World\n"
     ]
    }
   ],
   "source": [
    "print(\"Hello World\")"
   ]
  },
  {
   "cell_type": "markdown",
   "metadata": {},
   "source": [
    "### Import all necessary libraries"
   ]
  },
  {
   "cell_type": "code",
   "execution_count": 2,
   "metadata": {},
   "outputs": [],
   "source": [
    "import cv2 # cv2 -> Imports open-cv our computer vision library\n",
    "import numpy as np # Import the library numpy, and shorten it's name to np"
   ]
  },
  {
   "cell_type": "markdown",
   "metadata": {},
   "source": [
    "### Defining the Color Range\n",
    "\n",
    "First, we need to define our color range. The color range is in the **HSV** format: Hue, Saturation, Value.\n",
    "\n",
    "If you don't remember what the HSV color format is, please refer to the [RaspberryPiAlgorithmOverview](https://docs.google.com/presentation/d/1yrU-Dv-jRNRMyOsbtqIMjXC6S4zTtdYh/edit?usp=sharing&ouid=106914480700002256916&rtpof=true&sd=true) presentation."
   ]
  },
  {
   "cell_type": "code",
   "execution_count": 3,
   "metadata": {},
   "outputs": [],
   "source": [
    "# The low bounds, [h, s, v]\n",
    "low_bounds = np.array([4, 35, 0])\n",
    "# The top bounds, [h, s, v]\n",
    "top_bounds = np.array([31, 255, 255])"
   ]
  },
  {
   "cell_type": "markdown",
   "metadata": {},
   "source": [
    "### Loading an Image\n",
    "\n",
    "To start working, we first need an image. For now, we will load a given image instead of using any cameras to capture a new one.\n",
    "\n",
    "Here is how it is done:\n"
   ]
  },
  {
   "cell_type": "code",
   "execution_count": 4,
   "metadata": {},
   "outputs": [],
   "source": [
    "# Notes.png is the path to our image\n",
    "image = cv2.imread(\"Notes.png\")"
   ]
  },
  {
   "cell_type": "markdown",
   "metadata": {},
   "source": [
    "Let's display our image to see what we are working with"
   ]
  },
  {
   "cell_type": "code",
   "execution_count": 5,
   "metadata": {},
   "outputs": [],
   "source": [
    "# Parameters: Name (can be anything), The actual image\n",
    "cv2.imshow(\"Note Image\", image)\n",
    "\n",
    "# Used to close the window when done\n",
    "cv2.waitKey(0)\n",
    "cv2.destroyAllWindows()"
   ]
  },
  {
   "cell_type": "code",
   "execution_count": 6,
   "metadata": {},
   "outputs": [],
   "source": [
    "original_image = image.copy()"
   ]
  },
  {
   "cell_type": "markdown",
   "metadata": {},
   "source": [
    "### Detecting the Object in the Given Image\n",
    "\n",
    "Now we want to detect our object in the given image.\n",
    "\n",
    "1. **Convert Image to HSV Color Format**  \n",
    "   First, we need to convert our image (which uses the RGB color format) to HSV color format:"
   ]
  },
  {
   "cell_type": "code",
   "execution_count": 7,
   "metadata": {},
   "outputs": [],
   "source": [
    "hsv = cv2.cvtColor(image, cv2.COLOR_BGR2HSV)"
   ]
  },
  {
   "cell_type": "markdown",
   "metadata": {},
   "source": [
    "2. **Create a Mask**  \n",
    "   A mask is an image (2d array) that holds `True` (white) and `False` (black) values for each pixel. `True` if the pixel is inside our range and `False` otherwise"
   ]
  },
  {
   "cell_type": "code",
   "execution_count": 8,
   "metadata": {},
   "outputs": [],
   "source": [
    "mask = cv2.inRange(hsv, low_bounds, top_bounds)"
   ]
  },
  {
   "cell_type": "markdown",
   "metadata": {},
   "source": [
    "3. **Display the mask**  \n",
    "   Lets display our original image and the mask to the screen and see if it is correct, we should see that every orange pixel in the image is colored white in the mask"
   ]
  },
  {
   "cell_type": "code",
   "execution_count": 9,
   "metadata": {},
   "outputs": [],
   "source": [
    "cv2.imshow(\"Original Image\", image)\n",
    "cv2.imshow(\"Mask\", mask)\n",
    "\n",
    "cv2.waitKey(0)\n",
    "cv2.destroyAllWindows()"
   ]
  },
  {
   "cell_type": "markdown",
   "metadata": {},
   "source": [
    "### Noise Reduction in the Mask\n",
    "\n",
    "As we can clearly see, this is far from perfect. We get something that we call \"noise\" everywhere — those very small clumps of pixels that we, as humans, can clearly tell aren't part of the object.\n",
    "\n",
    "We will use two built-in operations: **Morphological Opening** and **Morphological Closing**. Each one of these functions takes two parameters as input: the image and the \"kernel\". The kernel is the matrix (A rectangle) that defines the neighborhood used for the morphological operations. \n",
    "\n",
    "More info can be found here [OpenCV Morphological Operations Tutorial](https://docs.opencv.org/4.x/d9/d61/tutorial_py_morphological_ops.html)\n",
    "\n",
    "Below, you can see images that demonstrate what the morphological operations are doing:"
   ]
  },
  {
   "cell_type": "markdown",
   "metadata": {},
   "source": [
    "Morphological Opening"
   ]
  },
  {
   "attachments": {
    "opening.png": {
     "image/png": "[encoded data removed]"
    }
   },
   "cell_type": "markdown",
   "metadata": {},
   "source": [
    "![opening.png](attachment:opening.png)"
   ]
  },
  {
   "cell_type": "markdown",
   "metadata": {},
   "source": [
    "Morphological Closing"
   ]
  },
  {
   "attachments": {
    "closing.png": {
     "image/png": "[encoded data removed]"
    }
   },
   "cell_type": "markdown",
   "metadata": {},
   "source": [
    "![closing.png](attachment:closing.png)"
   ]
  },
  {
   "cell_type": "markdown",
   "metadata": {},
   "source": [
    "### Understanding the Kernel\n",
    "\n",
    "The \"kernel\" is like a small window that we move over the image to look at one tiny part at a time. Imagine you have a magnifying glass, and you're moving it over a picture to see different small sections of the picture. The kernel helps the computer decide how to clean up or change the image by looking at these small sections. It helps in smoothing out the noise and making the important parts of the image stand out.\n",
    "The kernel is essentially a small rectangle of pixels that the computer looks at"
   ]
  },
  {
   "cell_type": "markdown",
   "metadata": {},
   "source": [
    "### This is how it's done in code:"
   ]
  },
  {
   "cell_type": "code",
   "execution_count": 10,
   "metadata": {},
   "outputs": [
    {
     "name": "stdout",
     "output_type": "stream",
     "text": [
      "[[1 1 1 1 1 1 1]\n",
      " [1 1 1 1 1 1 1]\n",
      " [1 1 1 1 1 1 1]\n",
      " [1 1 1 1 1 1 1]\n",
      " [1 1 1 1 1 1 1]\n",
      " [1 1 1 1 1 1 1]\n",
      " [1 1 1 1 1 1 1]]\n"
     ]
    }
   ],
   "source": [
    "# Define the kernel for the morphological operation\n",
    "# It is a 7*7 2d array of ones\n",
    "# Try changing the size of the kernel to see how it affects the image\n",
    "kernel = np.ones((7, 7), np.uint8)\n",
    "print(kernel)\n",
    "\n",
    "# Perform morphological opening to remove noise\n",
    "opening = cv2.morphologyEx(mask, cv2.MORPH_OPEN, kernel)\n",
    "\n",
    "# Perform morphological closing to close small holes\n",
    "processed_mask = cv2.morphologyEx(opening, cv2.MORPH_CLOSE, kernel)"
   ]
  },
  {
   "cell_type": "markdown",
   "metadata": {},
   "source": [
    "Let's see the difference"
   ]
  },
  {
   "cell_type": "code",
   "execution_count": 11,
   "metadata": {},
   "outputs": [],
   "source": [
    "cv2.imshow(\"Mask\", mask)\n",
    "cv2.imshow(\"Processed Mask\", processed_mask)\n",
    "\n",
    "cv2.waitKey(0)\n",
    "cv2.destroyAllWindows()"
   ]
  },
  {
   "cell_type": "markdown",
   "metadata": {},
   "source": [
    "### Detecting Contours\n",
    "\n",
    "Much better!\n",
    "\n",
    "Now that we know which pixels are part of our object, let's do something useful with this information.\n",
    "\n",
    "We will use the built-in function `findContours`, which will enclose our pixels inside a contour.\n",
    "\n",
    "In this example I use `cv2.CHAIN_APPROX_NONE` this is for better visualization, when we want better performance we will use `cv.CHAIN_APPROX_SIMPLE`\n",
    "\n",
    "More info can be found here: [OpenCv Contours](https://docs.opencv.org/3.4/d4/d73/tutorial_py_contours_begin.html)"
   ]
  },
  {
   "cell_type": "code",
   "execution_count": 12,
   "metadata": {},
   "outputs": [],
   "source": [
    "contours, _ = cv2.findContours(processed_mask, cv2.RETR_LIST, cv2.CHAIN_APPROX_NONE) # Try to change cv2.CHAIN_APPROX_NONE to cv2.CHAIN_APPROX_SIMPLE\n",
    "\n",
    "# Draw the contours on the image\n",
    "for contour in contours:\n",
    "    cv2.drawContours(image, contour, -1, (0, 255, 0), 2)\n",
    "\n",
    "cv2.imshow(\"Image\", image)\n",
    "cv2.imshow(\"Processed Mask\", processed_mask)\n",
    "\n",
    "cv2.waitKey(0)\n",
    "cv2.destroyAllWindows()"
   ]
  },
  {
   "cell_type": "markdown",
   "metadata": {},
   "source": [
    "### Addressing False Positives in Detection\n",
    "\n",
    "Now we notice a problem: the orange electrical line at the side of the field is being detected.\n",
    "\n",
    "**How can we help the program tell apart a game object from other orange things in the background?**\n",
    "\n",
    "Here is one solution:\n",
    "\n",
    "Notice that every game object has two contours: the inside one and the outside one. The program will consider a contour to be the outside contour of a game object only if it encloses another contour."
   ]
  },
  {
   "cell_type": "code",
   "execution_count": 13,
   "metadata": {},
   "outputs": [],
   "source": [
    "# We will first find a rectangle for each contour that encloses it\n",
    "bounding_rectangles = []\n",
    "\n",
    "for contour in contours:\n",
    "    bounding_rectangles.append(cv2.boundingRect(contour))\n",
    "\n",
    "# Function to check if one rectangle is inside another\n",
    "def is_rectangle_inside(outer, inner):\n",
    "    # Each cv2 rectangle uses the following format:\n",
    "    # Python tuple (top left point x, top left point y, rectangle width, rectangle height)\n",
    "    x1_outer, y1_outer, w_outer, h_outer = outer\n",
    "    x1_inner, y1_inner, w_inner, h_inner = inner\n",
    "\n",
    "    x2_outer, y2_outer = x1_outer + w_outer, y1_outer + h_outer\n",
    "    x2_inner, y2_inner = x1_inner + w_inner, y1_inner + h_inner\n",
    "\n",
    "    return x1_outer < x1_inner < x2_inner < x2_outer and y1_outer < y1_inner < y2_inner < y2_outer\n",
    "\n",
    "# Filter contours to find those whose bounding rectangles enclose another rectangle\n",
    "filtered_contours = []\n",
    "for i, outer_rect in enumerate(bounding_rectangles):\n",
    "    for j, inner_rect in enumerate(bounding_rectangles):\n",
    "        if i != j and is_rectangle_inside(outer_rect, inner_rect):\n",
    "            filtered_contours.append(contours[i])\n",
    "            break\n",
    "\n",
    "\n",
    "# Draw filtered contours on the image\n",
    "image = original_image.copy()\n",
    "for contour in filtered_contours:\n",
    "    cv2.drawContours(image, contour, -1, (0, 255, 0), 2)\n",
    "\n",
    "\n",
    "# Display the output image\n",
    "cv2.imshow('Contours with Inner Rectangles', image)\n",
    "cv2.waitKey(0)\n",
    "cv2.destroyAllWindows()\n"
   ]
  },
  {
   "cell_type": "markdown",
   "metadata": {},
   "source": [
    "### Improving the Detection\n",
    "\n",
    "It's not perfect, but for almost all cases, it is good enough.\n",
    "\n",
    "**Now here is your challenge:**\n",
    "Make it better!\n",
    "\n",
    "**Here are some tips:**\n",
    "\n",
    "- Try thinking outside the box and experiment with different approaches. For example, OpenCV has a function that can find an ellipse that is close to your contour.\n",
    "- First, think of an idea. Don't worry about how to implement it in code right away.\n",
    "- Think of an approach and then use ChatGPT to help you with the code. Don't ask it to solve the problem for you—ask it to help you code *your* solution.\n",
    "\n",
    "When finished, publish your branch with your solution. Make sure you understand every single line of code ChatGPT gives you. If you don't understand something, remember that ChatGPT or a Google search can usually explain it."
   ]
  },
  {
   "cell_type": "code",
   "execution_count": 14,
   "metadata": {},
   "outputs": [],
   "source": [
    "# Your code here"
   ]
  }
 ],
 "metadata": {
  "kernelspec": {
   "display_name": "base",
   "language": "python",
   "name": "python3"
  },
  "language_info": {
   "codemirror_mode": {
    "name": "ipython",
    "version": 3
   },
   "file_extension": ".py",
   "mimetype": "text/x-python",
   "name": "python",
   "nbconvert_exporter": "python",
   "pygments_lexer": "ipython3",
   "version": "3.11.5"
  }
 },
 "nbformat": 4,
 "nbformat_minor": 2
}
